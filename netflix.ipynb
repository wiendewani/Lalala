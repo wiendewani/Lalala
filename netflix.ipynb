{
  "nbformat": 4,
  "nbformat_minor": 0,
  "metadata": {
    "colab": {
      "name": "netflix.ipynb",
      "provenance": []
    },
    "kernelspec": {
      "name": "python3",
      "display_name": "Python 3"
    }
  },
  "cells": [
    {
      "cell_type": "code",
      "metadata": {
        "id": "uGwd8RACPycD",
        "colab_type": "code",
        "colab": {
          "base_uri": "https://localhost:8080/",
          "height": 72
        },
        "outputId": "264c0bc6-fff6-42fd-a744-c34f388e70de"
      },
      "source": [
        "import numpy as np\n",
        "import pandas as pd\n",
        "import matplotlib.pyplot as plt\n",
        "%matplotlib inline\n",
        "\n",
        "import seaborn as sns"
      ],
      "execution_count": 1,
      "outputs": [
        {
          "output_type": "stream",
          "text": [
            "/usr/local/lib/python3.6/dist-packages/statsmodels/tools/_testing.py:19: FutureWarning: pandas.util.testing is deprecated. Use the functions in the public API at pandas.testing instead.\n",
            "  import pandas.util.testing as tm\n"
          ],
          "name": "stderr"
        }
      ]
    },
    {
      "cell_type": "code",
      "metadata": {
        "id": "-mkwFLM2P4JE",
        "colab_type": "code",
        "colab": {}
      },
      "source": [
        "data = pd.read_csv('netflix_titles.csv')"
      ],
      "execution_count": 2,
      "outputs": []
    },
    {
      "cell_type": "code",
      "metadata": {
        "id": "_JhRBHLsP_FA",
        "colab_type": "code",
        "colab": {
          "base_uri": "https://localhost:8080/",
          "height": 514
        },
        "outputId": "d0c9a377-17f1-4f0c-b773-b10d357e9ffc"
      },
      "source": [
        "data.head()"
      ],
      "execution_count": 3,
      "outputs": [
        {
          "output_type": "execute_result",
          "data": {
            "text/html": [
              "<div>\n",
              "<style scoped>\n",
              "    .dataframe tbody tr th:only-of-type {\n",
              "        vertical-align: middle;\n",
              "    }\n",
              "\n",
              "    .dataframe tbody tr th {\n",
              "        vertical-align: top;\n",
              "    }\n",
              "\n",
              "    .dataframe thead th {\n",
              "        text-align: right;\n",
              "    }\n",
              "</style>\n",
              "<table border=\"1\" class=\"dataframe\">\n",
              "  <thead>\n",
              "    <tr style=\"text-align: right;\">\n",
              "      <th></th>\n",
              "      <th>show_id</th>\n",
              "      <th>type</th>\n",
              "      <th>title</th>\n",
              "      <th>director</th>\n",
              "      <th>cast</th>\n",
              "      <th>country</th>\n",
              "      <th>date_added</th>\n",
              "      <th>release_year</th>\n",
              "      <th>rating</th>\n",
              "      <th>duration</th>\n",
              "      <th>listed_in</th>\n",
              "      <th>description</th>\n",
              "    </tr>\n",
              "  </thead>\n",
              "  <tbody>\n",
              "    <tr>\n",
              "      <th>0</th>\n",
              "      <td>81145628</td>\n",
              "      <td>Movie</td>\n",
              "      <td>Norm of the North: King Sized Adventure</td>\n",
              "      <td>Richard Finn, Tim Maltby</td>\n",
              "      <td>Alan Marriott, Andrew Toth, Brian Dobson, Cole...</td>\n",
              "      <td>United States, India, South Korea, China</td>\n",
              "      <td>September 9, 2019</td>\n",
              "      <td>2019</td>\n",
              "      <td>TV-PG</td>\n",
              "      <td>90 min</td>\n",
              "      <td>Children &amp; Family Movies, Comedies</td>\n",
              "      <td>Before planning an awesome wedding for his gra...</td>\n",
              "    </tr>\n",
              "    <tr>\n",
              "      <th>1</th>\n",
              "      <td>80117401</td>\n",
              "      <td>Movie</td>\n",
              "      <td>Jandino: Whatever it Takes</td>\n",
              "      <td>NaN</td>\n",
              "      <td>Jandino Asporaat</td>\n",
              "      <td>United Kingdom</td>\n",
              "      <td>September 9, 2016</td>\n",
              "      <td>2016</td>\n",
              "      <td>TV-MA</td>\n",
              "      <td>94 min</td>\n",
              "      <td>Stand-Up Comedy</td>\n",
              "      <td>Jandino Asporaat riffs on the challenges of ra...</td>\n",
              "    </tr>\n",
              "    <tr>\n",
              "      <th>2</th>\n",
              "      <td>70234439</td>\n",
              "      <td>TV Show</td>\n",
              "      <td>Transformers Prime</td>\n",
              "      <td>NaN</td>\n",
              "      <td>Peter Cullen, Sumalee Montano, Frank Welker, J...</td>\n",
              "      <td>United States</td>\n",
              "      <td>September 8, 2018</td>\n",
              "      <td>2013</td>\n",
              "      <td>TV-Y7-FV</td>\n",
              "      <td>1 Season</td>\n",
              "      <td>Kids' TV</td>\n",
              "      <td>With the help of three human allies, the Autob...</td>\n",
              "    </tr>\n",
              "    <tr>\n",
              "      <th>3</th>\n",
              "      <td>80058654</td>\n",
              "      <td>TV Show</td>\n",
              "      <td>Transformers: Robots in Disguise</td>\n",
              "      <td>NaN</td>\n",
              "      <td>Will Friedle, Darren Criss, Constance Zimmer, ...</td>\n",
              "      <td>United States</td>\n",
              "      <td>September 8, 2018</td>\n",
              "      <td>2016</td>\n",
              "      <td>TV-Y7</td>\n",
              "      <td>1 Season</td>\n",
              "      <td>Kids' TV</td>\n",
              "      <td>When a prison ship crash unleashes hundreds of...</td>\n",
              "    </tr>\n",
              "    <tr>\n",
              "      <th>4</th>\n",
              "      <td>80125979</td>\n",
              "      <td>Movie</td>\n",
              "      <td>#realityhigh</td>\n",
              "      <td>Fernando Lebrija</td>\n",
              "      <td>Nesta Cooper, Kate Walsh, John Michael Higgins...</td>\n",
              "      <td>United States</td>\n",
              "      <td>September 8, 2017</td>\n",
              "      <td>2017</td>\n",
              "      <td>TV-14</td>\n",
              "      <td>99 min</td>\n",
              "      <td>Comedies</td>\n",
              "      <td>When nerdy high schooler Dani finally attracts...</td>\n",
              "    </tr>\n",
              "  </tbody>\n",
              "</table>\n",
              "</div>"
            ],
            "text/plain": [
              "    show_id  ...                                        description\n",
              "0  81145628  ...  Before planning an awesome wedding for his gra...\n",
              "1  80117401  ...  Jandino Asporaat riffs on the challenges of ra...\n",
              "2  70234439  ...  With the help of three human allies, the Autob...\n",
              "3  80058654  ...  When a prison ship crash unleashes hundreds of...\n",
              "4  80125979  ...  When nerdy high schooler Dani finally attracts...\n",
              "\n",
              "[5 rows x 12 columns]"
            ]
          },
          "metadata": {
            "tags": []
          },
          "execution_count": 3
        }
      ]
    },
    {
      "cell_type": "code",
      "metadata": {
        "id": "iHp4rmupQR4C",
        "colab_type": "code",
        "colab": {
          "base_uri": "https://localhost:8080/",
          "height": 34
        },
        "outputId": "0199b124-5b47-4674-c1c5-4699674e64ef"
      },
      "source": [
        "data.shape"
      ],
      "execution_count": 4,
      "outputs": [
        {
          "output_type": "execute_result",
          "data": {
            "text/plain": [
              "(6234, 12)"
            ]
          },
          "metadata": {
            "tags": []
          },
          "execution_count": 4
        }
      ]
    },
    {
      "cell_type": "code",
      "metadata": {
        "id": "tt7sS9OAQ09o",
        "colab_type": "code",
        "colab": {
          "base_uri": "https://localhost:8080/",
          "height": 287
        },
        "outputId": "0c2193b0-8c9c-4e32-cecb-79db9f5da289"
      },
      "source": [
        "data.describe()"
      ],
      "execution_count": 5,
      "outputs": [
        {
          "output_type": "execute_result",
          "data": {
            "text/html": [
              "<div>\n",
              "<style scoped>\n",
              "    .dataframe tbody tr th:only-of-type {\n",
              "        vertical-align: middle;\n",
              "    }\n",
              "\n",
              "    .dataframe tbody tr th {\n",
              "        vertical-align: top;\n",
              "    }\n",
              "\n",
              "    .dataframe thead th {\n",
              "        text-align: right;\n",
              "    }\n",
              "</style>\n",
              "<table border=\"1\" class=\"dataframe\">\n",
              "  <thead>\n",
              "    <tr style=\"text-align: right;\">\n",
              "      <th></th>\n",
              "      <th>show_id</th>\n",
              "      <th>release_year</th>\n",
              "    </tr>\n",
              "  </thead>\n",
              "  <tbody>\n",
              "    <tr>\n",
              "      <th>count</th>\n",
              "      <td>6.234000e+03</td>\n",
              "      <td>6234.00000</td>\n",
              "    </tr>\n",
              "    <tr>\n",
              "      <th>mean</th>\n",
              "      <td>7.670368e+07</td>\n",
              "      <td>2013.35932</td>\n",
              "    </tr>\n",
              "    <tr>\n",
              "      <th>std</th>\n",
              "      <td>1.094296e+07</td>\n",
              "      <td>8.81162</td>\n",
              "    </tr>\n",
              "    <tr>\n",
              "      <th>min</th>\n",
              "      <td>2.477470e+05</td>\n",
              "      <td>1925.00000</td>\n",
              "    </tr>\n",
              "    <tr>\n",
              "      <th>25%</th>\n",
              "      <td>8.003580e+07</td>\n",
              "      <td>2013.00000</td>\n",
              "    </tr>\n",
              "    <tr>\n",
              "      <th>50%</th>\n",
              "      <td>8.016337e+07</td>\n",
              "      <td>2016.00000</td>\n",
              "    </tr>\n",
              "    <tr>\n",
              "      <th>75%</th>\n",
              "      <td>8.024489e+07</td>\n",
              "      <td>2018.00000</td>\n",
              "    </tr>\n",
              "    <tr>\n",
              "      <th>max</th>\n",
              "      <td>8.123573e+07</td>\n",
              "      <td>2020.00000</td>\n",
              "    </tr>\n",
              "  </tbody>\n",
              "</table>\n",
              "</div>"
            ],
            "text/plain": [
              "            show_id  release_year\n",
              "count  6.234000e+03    6234.00000\n",
              "mean   7.670368e+07    2013.35932\n",
              "std    1.094296e+07       8.81162\n",
              "min    2.477470e+05    1925.00000\n",
              "25%    8.003580e+07    2013.00000\n",
              "50%    8.016337e+07    2016.00000\n",
              "75%    8.024489e+07    2018.00000\n",
              "max    8.123573e+07    2020.00000"
            ]
          },
          "metadata": {
            "tags": []
          },
          "execution_count": 5
        }
      ]
    },
    {
      "cell_type": "code",
      "metadata": {
        "id": "cEX4gVXzQ2hN",
        "colab_type": "code",
        "colab": {
          "base_uri": "https://localhost:8080/",
          "height": 354
        },
        "outputId": "66d6c898-3b4b-4ac9-8f5e-9d7a8520bfae"
      },
      "source": [
        "data.info()"
      ],
      "execution_count": 6,
      "outputs": [
        {
          "output_type": "stream",
          "text": [
            "<class 'pandas.core.frame.DataFrame'>\n",
            "RangeIndex: 6234 entries, 0 to 6233\n",
            "Data columns (total 12 columns):\n",
            " #   Column        Non-Null Count  Dtype \n",
            "---  ------        --------------  ----- \n",
            " 0   show_id       6234 non-null   int64 \n",
            " 1   type          6234 non-null   object\n",
            " 2   title         6234 non-null   object\n",
            " 3   director      4265 non-null   object\n",
            " 4   cast          5664 non-null   object\n",
            " 5   country       5758 non-null   object\n",
            " 6   date_added    6223 non-null   object\n",
            " 7   release_year  6234 non-null   int64 \n",
            " 8   rating        6224 non-null   object\n",
            " 9   duration      6234 non-null   object\n",
            " 10  listed_in     6234 non-null   object\n",
            " 11  description   6234 non-null   object\n",
            "dtypes: int64(2), object(10)\n",
            "memory usage: 584.6+ KB\n"
          ],
          "name": "stdout"
        }
      ]
    },
    {
      "cell_type": "code",
      "metadata": {
        "id": "OKI5IO4WQ4Sj",
        "colab_type": "code",
        "colab": {
          "base_uri": "https://localhost:8080/",
          "height": 247
        },
        "outputId": "4c8be1f7-bbda-4017-b1a3-8b12974648b5"
      },
      "source": [
        "data.isnull().sum()"
      ],
      "execution_count": 7,
      "outputs": [
        {
          "output_type": "execute_result",
          "data": {
            "text/plain": [
              "show_id            0\n",
              "type               0\n",
              "title              0\n",
              "director        1969\n",
              "cast             570\n",
              "country          476\n",
              "date_added        11\n",
              "release_year       0\n",
              "rating            10\n",
              "duration           0\n",
              "listed_in          0\n",
              "description        0\n",
              "dtype: int64"
            ]
          },
          "metadata": {
            "tags": []
          },
          "execution_count": 7
        }
      ]
    },
    {
      "cell_type": "code",
      "metadata": {
        "id": "iHgQRsMaQ7N3",
        "colab_type": "code",
        "colab": {}
      },
      "source": [
        ""
      ],
      "execution_count": 7,
      "outputs": []
    },
    {
      "cell_type": "markdown",
      "metadata": {
        "id": "2mNSBAQhQ8Dp",
        "colab_type": "text"
      },
      "source": [
        "**Data Cleaning**"
      ]
    },
    {
      "cell_type": "code",
      "metadata": {
        "id": "91aGE0S4Q_bQ",
        "colab_type": "code",
        "colab": {}
      },
      "source": [
        "data.drop(['director','cast'],axis =1, inplace=True)"
      ],
      "execution_count": 8,
      "outputs": []
    },
    {
      "cell_type": "code",
      "metadata": {
        "id": "WcruAN34RBf4",
        "colab_type": "code",
        "colab": {
          "base_uri": "https://localhost:8080/",
          "height": 230
        },
        "outputId": "79bb5631-9f47-41e7-94c7-cbbda95a6f74"
      },
      "source": [
        "data['country'].value_counts()"
      ],
      "execution_count": 9,
      "outputs": [
        {
          "output_type": "execute_result",
          "data": {
            "text/plain": [
              "United States                     2032\n",
              "India                              777\n",
              "United Kingdom                     348\n",
              "Japan                              176\n",
              "Canada                             141\n",
              "                                  ... \n",
              "Czech Republic, France               1\n",
              "United Kingdom, Spain, Belgium       1\n",
              "China, United States                 1\n",
              "Iran, France                         1\n",
              "Chile, France                        1\n",
              "Name: country, Length: 554, dtype: int64"
            ]
          },
          "metadata": {
            "tags": []
          },
          "execution_count": 9
        }
      ]
    },
    {
      "cell_type": "code",
      "metadata": {
        "id": "8aOzzieDRDSF",
        "colab_type": "code",
        "colab": {}
      },
      "source": [
        "#change Nan in country to UNited States\n",
        "data['country'].replace(np.nan,\"United States\", inplace =True)"
      ],
      "execution_count": 10,
      "outputs": []
    },
    {
      "cell_type": "code",
      "metadata": {
        "id": "u9K5yWTuRGHa",
        "colab_type": "code",
        "colab": {
          "base_uri": "https://localhost:8080/",
          "height": 230
        },
        "outputId": "d7a7367d-bbcb-4296-f672-0a762ff3badb"
      },
      "source": [
        "data['date_added'].value_counts()"
      ],
      "execution_count": 11,
      "outputs": [
        {
          "output_type": "execute_result",
          "data": {
            "text/plain": [
              "January 1, 2020       122\n",
              "November 1, 2019       94\n",
              "March 1, 2018          78\n",
              "December 31, 2019      74\n",
              "October 1, 2018        72\n",
              "                     ... \n",
              "June 28, 2018           1\n",
              " September 4, 2017      1\n",
              "February 19, 2016       1\n",
              " April 16, 2019         1\n",
              "December 13, 2016       1\n",
              "Name: date_added, Length: 1524, dtype: int64"
            ]
          },
          "metadata": {
            "tags": []
          },
          "execution_count": 11
        }
      ]
    },
    {
      "cell_type": "code",
      "metadata": {
        "id": "927Pv-U0ROu3",
        "colab_type": "code",
        "colab": {}
      },
      "source": [
        "data = data.dropna(subset=['date_added'])\n"
      ],
      "execution_count": 12,
      "outputs": []
    },
    {
      "cell_type": "code",
      "metadata": {
        "id": "aCOMxf2yRqRp",
        "colab_type": "code",
        "colab": {}
      },
      "source": [
        ""
      ],
      "execution_count": 12,
      "outputs": []
    },
    {
      "cell_type": "code",
      "metadata": {
        "id": "7IZxT3NsUIXc",
        "colab_type": "code",
        "colab": {}
      },
      "source": [
        "data['rating'].fillna(str(data['rating'].mode().values[0]),inplace=True)"
      ],
      "execution_count": 13,
      "outputs": []
    },
    {
      "cell_type": "code",
      "metadata": {
        "id": "TAwGE9hL086B",
        "colab_type": "code",
        "colab": {
          "base_uri": "https://localhost:8080/",
          "height": 212
        },
        "outputId": "f5b80549-a84e-4579-f1dd-baa86ec13e79"
      },
      "source": [
        "data.isnull().sum()"
      ],
      "execution_count": 14,
      "outputs": [
        {
          "output_type": "execute_result",
          "data": {
            "text/plain": [
              "show_id         0\n",
              "type            0\n",
              "title           0\n",
              "country         0\n",
              "date_added      0\n",
              "release_year    0\n",
              "rating          0\n",
              "duration        0\n",
              "listed_in       0\n",
              "description     0\n",
              "dtype: int64"
            ]
          },
          "metadata": {
            "tags": []
          },
          "execution_count": 14
        }
      ]
    },
    {
      "cell_type": "code",
      "metadata": {
        "id": "DAfMota71WR3",
        "colab_type": "code",
        "colab": {
          "base_uri": "https://localhost:8080/",
          "height": 33
        },
        "outputId": "fd3e5a14-828e-4ea5-9e09-acd592e00de1"
      },
      "source": [
        "data.shape"
      ],
      "execution_count": null,
      "outputs": [
        {
          "output_type": "execute_result",
          "data": {
            "text/plain": [
              "(6223, 10)"
            ]
          },
          "metadata": {
            "tags": []
          },
          "execution_count": 34
        }
      ]
    },
    {
      "cell_type": "code",
      "metadata": {
        "id": "J9Edp6Kq1YCL",
        "colab_type": "code",
        "colab": {
          "base_uri": "https://localhost:8080/",
          "height": 70
        },
        "outputId": "1df05384-44e1-4887-c236-826c9d5741a4"
      },
      "source": [
        "data['type'].value_counts()"
      ],
      "execution_count": 15,
      "outputs": [
        {
          "output_type": "execute_result",
          "data": {
            "text/plain": [
              "Movie      4264\n",
              "TV Show    1959\n",
              "Name: type, dtype: int64"
            ]
          },
          "metadata": {
            "tags": []
          },
          "execution_count": 15
        }
      ]
    },
    {
      "cell_type": "code",
      "metadata": {
        "id": "NFeD92pm5OhH",
        "colab_type": "code",
        "colab": {
          "base_uri": "https://localhost:8080/",
          "height": 283
        },
        "outputId": "3bca1af2-8688-4f95-85f4-765369b2527d"
      },
      "source": [
        "data['rating'].value_counts()"
      ],
      "execution_count": 16,
      "outputs": [
        {
          "output_type": "execute_result",
          "data": {
            "text/plain": [
              "TV-MA       2034\n",
              "TV-14       1695\n",
              "TV-PG        699\n",
              "R            508\n",
              "PG-13        286\n",
              "NR           217\n",
              "PG           184\n",
              "TV-Y7        168\n",
              "TV-G         149\n",
              "TV-Y         142\n",
              "TV-Y7-FV      95\n",
              "G             37\n",
              "UR             7\n",
              "NC-17          2\n",
              "Name: rating, dtype: int64"
            ]
          },
          "metadata": {
            "tags": []
          },
          "execution_count": 16
        }
      ]
    },
    {
      "cell_type": "code",
      "metadata": {
        "id": "qxC8WF0j5dhI",
        "colab_type": "code",
        "colab": {
          "base_uri": "https://localhost:8080/",
          "height": 374
        },
        "outputId": "0767e33f-f0eb-4561-d231-da7d604dfd2c"
      },
      "source": [
        "plt.figure(figsize=(15,6))\n",
        "data['type'].value_counts().plot(kind='pie', label=\"Type on Netflix\",autopct='%1.0f%%')"
      ],
      "execution_count": 21,
      "outputs": [
        {
          "output_type": "execute_result",
          "data": {
            "text/plain": [
              "<matplotlib.axes._subplots.AxesSubplot at 0x7f6223058f28>"
            ]
          },
          "metadata": {
            "tags": []
          },
          "execution_count": 21
        },
        {
          "output_type": "display_data",
          "data": {
            "image/png": "[encoded data removed]",
            "text/plain": [
              "<Figure size 1080x432 with 1 Axes>"
            ]
          },
          "metadata": {
            "tags": []
          }
        }
      ]
    },
    {
      "cell_type": "code",
      "metadata": {
        "id": "wb6aYPY06Zw0",
        "colab_type": "code",
        "colab": {
          "base_uri": "https://localhost:8080/",
          "height": 422
        },
        "outputId": "59a23797-6df7-41cd-ee5a-fcb48c05d080"
      },
      "source": [
        "plt.figure(figsize = (15,6))\n",
        "sns.countplot(x = \"rating\", order=data['rating'].value_counts().index[0:15] ,data=data,palette='Accent',hue='type')\n",
        "plt.title(\"Rating on Netflix\")"
      ],
      "execution_count": 35,
      "outputs": [
        {
          "output_type": "execute_result",
          "data": {
            "text/plain": [
              "Text(0.5, 1.0, 'Rating on Netflix')"
            ]
          },
          "metadata": {
            "tags": []
          },
          "execution_count": 35
        },
        {
          "output_type": "display_data",
          "data": {
            "image/png": "[encoded data removed]",
            "text/plain": [
              "<Figure size 1080x432 with 1 Axes>"
            ]
          },
          "metadata": {
            "tags": [],
            "needs_background": "light"
          }
        }
      ]
    },
    {
      "cell_type": "code",
      "metadata": {
        "id": "1OJVKr65nseg",
        "colab_type": "code",
        "colab": {
          "base_uri": "https://localhost:8080/",
          "height": 282
        },
        "outputId": "6cfe925c-533a-4266-aeb3-b1ebf919553b"
      },
      "source": [
        "data_year = data[data['release_year'] > 2005]\n",
        "sns.kdeplot(data=data_year['release_year'], label='release_year', shade=True)\n",
        "plt.title('Number of shows released per year')\n",
        "plt.show()"
      ],
      "execution_count": 62,
      "outputs": [
        {
          "output_type": "display_data",
          "data": {
            "image/png": "[encoded data removed]",
            "text/plain": [
              "<Figure size 432x288 with 1 Axes>"
            ]
          },
          "metadata": {
            "tags": []
          }
        }
      ]
    },
    {
      "cell_type": "code",
      "metadata": {
        "id": "Cgd9mdQ9wPfR",
        "colab_type": "code",
        "colab": {}
      },
      "source": [
        ""
      ],
      "execution_count": 73,
      "outputs": []
    },
    {
      "cell_type": "code",
      "metadata": {
        "id": "VbcuFh7VsIKN",
        "colab_type": "code",
        "colab": {
          "base_uri": "https://localhost:8080/",
          "height": 212
        },
        "outputId": "ed5fefee-bfa8-4ca2-ce7f-c548812d7394"
      },
      "source": [
        "data_country = data['country'].value_counts()[:10]\n",
        "data_country"
      ],
      "execution_count": 74,
      "outputs": [
        {
          "output_type": "execute_result",
          "data": {
            "text/plain": [
              "United States     2500\n",
              "India              777\n",
              "United Kingdom     347\n",
              "Japan              175\n",
              "Canada             141\n",
              "South Korea        136\n",
              "Spain              117\n",
              "France              90\n",
              "Mexico              83\n",
              "Turkey              79\n",
              "Name: country, dtype: int64"
            ]
          },
          "metadata": {
            "tags": []
          },
          "execution_count": 74
        }
      ]
    },
    {
      "cell_type": "code",
      "metadata": {
        "id": "oPbLSoPBpmB3",
        "colab_type": "code",
        "colab": {
          "base_uri": "https://localhost:8080/",
          "height": 373
        },
        "outputId": "1b7817e3-7623-4fe6-d9c0-08a998f2f935"
      },
      "source": [
        "plt.style.use('ggplot')\n",
        "ax = data_country.plot(kind='bar');\n",
        "ax.set_alpha(0.8)\n",
        "ax.set_title(\"top 10 country on Netflix\", fontsize=18)\n"
      ],
      "execution_count": 83,
      "outputs": [
        {
          "output_type": "execute_result",
          "data": {
            "text/plain": [
              "Text(0.5, 1.0, 'top 10 country on Netflix')"
            ]
          },
          "metadata": {
            "tags": []
          },
          "execution_count": 83
        },
        {
          "output_type": "display_data",
          "data": {
            "image/png": "[encoded data removed]",
            "text/plain": [
              "<Figure size 432x288 with 1 Axes>"
            ]
          },
          "metadata": {
            "tags": []
          }
        }
      ]
    },
    {
      "cell_type": "code",
      "metadata": {
        "id": "zNWQG9NEsRgQ",
        "colab_type": "code",
        "colab": {
          "base_uri": "https://localhost:8080/",
          "height": 212
        },
        "outputId": "158f9c7c-1153-466b-ae71-1b4104ff9d24"
      },
      "source": [
        "data_listed_in = data['listed_in'].value_counts()[:10]\n",
        "data_listed_in"
      ],
      "execution_count": 76,
      "outputs": [
        {
          "output_type": "execute_result",
          "data": {
            "text/plain": [
              "Documentaries                                       299\n",
              "Stand-Up Comedy                                     273\n",
              "Dramas, International Movies                        248\n",
              "Dramas, Independent Movies, International Movies    186\n",
              "Comedies, Dramas, International Movies              174\n",
              "Kids' TV                                            158\n",
              "Documentaries, International Movies                 150\n",
              "Children & Family Movies, Comedies                  129\n",
              "Comedies, International Movies                      120\n",
              "Children & Family Movies                            120\n",
              "Name: listed_in, dtype: int64"
            ]
          },
          "metadata": {
            "tags": []
          },
          "execution_count": 76
        }
      ]
    },
    {
      "cell_type": "code",
      "metadata": {
        "id": "9ty4x2EQMgdH",
        "colab_type": "code",
        "colab": {
          "base_uri": "https://localhost:8080/",
          "height": 302
        },
        "outputId": "2d5f2d58-5ce9-46da-a738-981af1d281a3"
      },
      "source": [
        "plt.style.use('ggplot')\n",
        "ax = data_listed_in.plot(kind='barh');\n",
        "ax.set_alpha(0.8)\n",
        "ax.set_title(\"top 10 Listed in Netflix\", fontsize=18)\n"
      ],
      "execution_count": 82,
      "outputs": [
        {
          "output_type": "execute_result",
          "data": {
            "text/plain": [
              "Text(0.5, 1.0, 'top 10 Listed in Netflix')"
            ]
          },
          "metadata": {
            "tags": []
          },
          "execution_count": 82
        },
        {
          "output_type": "display_data",
          "data": {
            "image/png": "[encoded data removed]",
            "text/plain": [
              "<Figure size 432x288 with 1 Axes>"
            ]
          },
          "metadata": {
            "tags": []
          }
        }
      ]
    },
    {
      "cell_type": "code",
      "metadata": {
        "id": "pL761KQRMjQv",
        "colab_type": "code",
        "colab": {}
      },
      "source": [
        ""
      ],
      "execution_count": null,
      "outputs": []
    }
  ]
}